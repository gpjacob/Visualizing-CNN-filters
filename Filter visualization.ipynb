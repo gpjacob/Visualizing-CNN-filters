{
 "cells": [
  {
   "cell_type": "code",
   "execution_count": 111,
   "metadata": {
    "collapsed": false
   },
   "outputs": [
    {
     "name": "stdout",
     "output_type": "stream",
     "text": [
      "Extracting MNIST_data/train-images-idx3-ubyte.gz\n",
      "Extracting MNIST_data/train-labels-idx1-ubyte.gz\n",
      "Extracting MNIST_data/t10k-images-idx3-ubyte.gz\n",
      "Extracting MNIST_data/t10k-labels-idx1-ubyte.gz\n"
     ]
    }
   ],
   "source": [
    "###############################\n",
    "### VISUALISING CNN FILTERS ###\n",
    "###############################\n",
    "\n",
    "#Import dependencies\n",
    "import numpy as np \n",
    "import matplotlib as mp\n",
    "%matplotlib inline\n",
    "import matplotlib.pyplot as plt\n",
    "import tensorflow as tf\n",
    "import tensorflow.contrib.slim as slim\n",
    "from tensorflow.examples.tutorials.mnist import input_data\n",
    "import math\n",
    "\n",
    "# Load mnist data from local\n",
    "mnist = input_data.read_data_sets(\"MNIST_data/\", one_hot=True)\n",
    "\n",
    "# Specify shape for X and Y\n",
    "tf.reset_default_graph()\n",
    "x = tf.placeholder(tf.float32, [None, 784],name=\"x-in\")\n",
    "true_y = tf.placeholder(tf.float32, [None, 10],name=\"y-in\")\n",
    "keep_prob = tf.placeholder(\"float\")\n",
    "\n",
    "\n",
    "# Network structure 3 layers no pooling row filter and column filter\n",
    "x_image = tf.reshape(x,[-1,28,28,1])\n",
    "#hidden_1 = slim.conv2d(x_image,1,[5,12])\n",
    "hidden_1 = tf.layers.conv2d(activation=tf.nn.relu, \n",
    "                                filters=1, \n",
    "                                inputs=x_image, \n",
    "                                kernel_size=(1, 14), \n",
    "                                name=\"conv1\",         # NOTE THE NAME \n",
    "                                padding=\"same\", \n",
    "                                strides=(14, 14))\n",
    "#pool_1 = slim.max_pool2d(hidden_1,[2,2])\n",
    "#hidden_2 = slim.conv2d(hidden_1,5,[12,3])\n",
    "hidden_2 = tf.layers.conv2d(activation=tf.nn.relu, \n",
    "                                filters=1, \n",
    "                                inputs=x_image, \n",
    "                                kernel_size=(14, 1), \n",
    "                                name=\"conv2\",         # NOTE THE NAME \n",
    "                                padding=\"same\", \n",
    "                                strides=(14, 14))\n",
    "\n",
    "#pool_2 = slim.max_pool2d(hidden_2,[2,2])\n",
    "hidden_3 = slim.conv2d(hidden_2,20,[5,5])\n",
    "out_y = slim.fully_connected(slim.flatten(hidden_3),10,activation_fn=tf.nn.softmax)\n",
    "\n",
    "# Train\n",
    "cross_entropy = -tf.reduce_sum(true_y*tf.log(out_y))\n",
    "correct_prediction = tf.equal(tf.argmax(out_y,1), tf.argmax(true_y,1))\n",
    "accuracy = tf.reduce_mean(tf.cast(correct_prediction, \"float\"))\n",
    "train_step = tf.train.AdamOptimizer(1e-4).minimize(cross_entropy)"
   ]
  },
  {
   "cell_type": "code",
   "execution_count": 112,
   "metadata": {
    "collapsed": false
   },
   "outputs": [
    {
     "name": "stdout",
     "output_type": "stream",
     "text": [
      "step 100, training accuracy 0.16\n",
      "step 200, training accuracy 0.22\n",
      "step 300, training accuracy 0.06\n",
      "step 400, training accuracy 0.2\n",
      "step 500, training accuracy 0.18\n",
      "step 600, training accuracy 0.16\n",
      "step 700, training accuracy 0.08\n",
      "step 800, training accuracy 0.12\n",
      "step 900, training accuracy 0.1\n",
      "step 1000, training accuracy 0.2\n"
     ]
    }
   ],
   "source": [
    "# Train\n",
    "batchSize = 50\n",
    "sess = tf.Session()\n",
    "init = tf.global_variables_initializer()\n",
    "sess.run(init)\n",
    "for i in range(1001):\n",
    "    batch = mnist.train.next_batch(batchSize)\n",
    "    sess.run(train_step, feed_dict={x:batch[0],true_y:batch[1], keep_prob:0.5})\n",
    "    if i % 100 == 0 and i != 0:\n",
    "        trainAccuracy = sess.run(accuracy, feed_dict={x:batch[0],true_y:batch[1], keep_prob:1.0})\n",
    "        print(\"step %d, training accuracy %g\"%(i, trainAccuracy))"
   ]
  },
  {
   "cell_type": "code",
   "execution_count": 113,
   "metadata": {
    "collapsed": false
   },
   "outputs": [],
   "source": [
    "#testAccuracy = sess.run(accuracy, feed_dict={x:mnist.test.images,true_y:mnist.test.labels, keep_prob:1.0})\n",
    "#print(\"test accuracy %g\"%(testAccuracy))"
   ]
  },
  {
   "cell_type": "code",
   "execution_count": 114,
   "metadata": {
    "collapsed": true
   },
   "outputs": [],
   "source": [
    "## 1. Visualizing for a given image the filters that were activated\n",
    "\n",
    "# Function to get activations for given input image\n",
    "def getActivations(layer,stimuli):\n",
    "    units = sess.run(layer,feed_dict={x:np.reshape(stimuli,[1,784],order='F'),keep_prob:1.0})\n",
    "    plotNNFilter(units)\n",
    "\n",
    "def plotNNFilter(units):\n",
    "    filters = units.shape[3]\n",
    "    plt.figure(1, figsize=(20,20))\n",
    "    n_columns = 6\n",
    "    n_rows = math.ceil(filters / n_columns) + 1\n",
    "    for i in range(filters):\n",
    "        plt.subplot(n_rows, n_columns, i+1)\n",
    "        plt.title('Filter ' + str(i))\n",
    "        plt.imshow(units[0,:,:,i], interpolation=\"nearest\", cmap=\"gray\")"
   ]
  },
  {
   "cell_type": "code",
   "execution_count": 104,
   "metadata": {
    "collapsed": true
   },
   "outputs": [],
   "source": [
    "def plotNNFilter(units):\n",
    "    filters = units.shape[3]\n",
    "    plt.figure(1, figsize=(20,20))\n",
    "    n_columns = 6\n",
    "    n_rows = math.ceil(filters / n_columns) + 1\n",
    "    for i in range(filters):\n",
    "        plt.subplot(n_rows, n_columns, i+1)\n",
    "        plt.title('Filter ' + str(i))\n",
    "        plt.imshow(units[0,:,:,i], interpolation=\"nearest\", cmap=\"gray\")"
   ]
  },
  {
   "cell_type": "code",
   "execution_count": 115,
   "metadata": {
    "collapsed": false
   },
   "outputs": [
    {
     "data": {
      "text/plain": [
       "<matplotlib.image.AxesImage at 0x11e402990>"
      ]
     },
     "execution_count": 115,
     "metadata": {},
     "output_type": "execute_result"
    },
    {
     "data": {
      "image/png": "[encoded data removed]",
      "text/plain": [
       "<matplotlib.figure.Figure at 0x131e01310>"
      ]
     },
     "metadata": {},
     "output_type": "display_data"
    }
   ],
   "source": [
    "# Testing with image from data\n",
    "imageToUse = mnist.test.images[0]\n",
    "plt.imshow(np.reshape(imageToUse,[28,28]), interpolation=\"nearest\", cmap=\"gray\")"
   ]
  },
  {
   "cell_type": "code",
   "execution_count": 116,
   "metadata": {
    "collapsed": false
   },
   "outputs": [
    {
     "data": {
      "image/png": "[encoded data removed]",
      "text/plain": [
       "<matplotlib.figure.Figure at 0x1318a4990>"
      ]
     },
     "metadata": {},
     "output_type": "display_data"
    }
   ],
   "source": [
    "getActivations(hidden_1,imageToUse)"
   ]
  },
  {
   "cell_type": "code",
   "execution_count": 117,
   "metadata": {
    "collapsed": false
   },
   "outputs": [
    {
     "data": {
      "image/png": "[encoded data removed]",
      "text/plain": [
       "<matplotlib.figure.Figure at 0x11dfc6250>"
      ]
     },
     "metadata": {},
     "output_type": "display_data"
    }
   ],
   "source": [
    "getActivations(hidden_2,imageToUse)"
   ]
  },
  {
   "cell_type": "code",
   "execution_count": 119,
   "metadata": {
    "collapsed": false
   },
   "outputs": [
    {
     "data": {
      "image/png": "[encoded data removed]",
      "text/plain": [
       "<matplotlib.figure.Figure at 0x131874c10>"
      ]
     },
     "metadata": {},
     "output_type": "display_data"
    }
   ],
   "source": [
    "getActivations(hidden_3,imageToUse)"
   ]
  },
  {
   "cell_type": "code",
   "execution_count": 136,
   "metadata": {
    "collapsed": false
   },
   "outputs": [
    {
     "name": "stdout",
     "output_type": "stream",
     "text": [
      "Filter in layer 1\n"
     ]
    },
    {
     "data": {
      "text/plain": [
       "<matplotlib.image.AxesImage at 0x1318931d0>"
      ]
     },
     "execution_count": 136,
     "metadata": {},
     "output_type": "execute_result"
    },
    {
     "data": {
      "image/png": "[encoded data removed]",
      "text/plain": [
       "<matplotlib.figure.Figure at 0x11bf03150>"
      ]
     },
     "metadata": {},
     "output_type": "display_data"
    }
   ],
   "source": [
    "## 2. Printing image of kernels learnt \n",
    "\n",
    "# Kernal in layer 1\n",
    "gr = tf.get_default_graph()\n",
    "conv1_kernel_val = gr.get_tensor_by_name('conv1/kernel:0').eval(session=sess)\n",
    "k1 = conv1_kernel_val\n",
    "ffilter = np.zeros((28,28))\n",
    "\n",
    "\n",
    "for i in range(1):\n",
    "    for j in range(13):\n",
    "        ffilter[i,j]=k1[i,j,0,0]\n",
    "        \n",
    "print(\"Filter in layer 1\")\n",
    "plt.imshow(ffilter, interpolation=\"nearest\", cmap=\"gray\")"
   ]
  },
  {
   "cell_type": "code",
   "execution_count": 137,
   "metadata": {
    "collapsed": false
   },
   "outputs": [
    {
     "name": "stdout",
     "output_type": "stream",
     "text": [
      "Filter in layer 2\n"
     ]
    },
    {
     "data": {
      "text/plain": [
       "<matplotlib.image.AxesImage at 0x131dc8090>"
      ]
     },
     "execution_count": 137,
     "metadata": {},
     "output_type": "execute_result"
    },
    {
     "data": {
      "image/png": "[encoded data removed]",
      "text/plain": [
       "<matplotlib.figure.Figure at 0x11e7b5cd0>"
      ]
     },
     "metadata": {},
     "output_type": "display_data"
    }
   ],
   "source": [
    "# Kernel in layer 2\n",
    "gr = tf.get_default_graph()\n",
    "conv2_kernel_val = gr.get_tensor_by_name('conv2/kernel:0').eval(session=sess)\n",
    "\n",
    "k2 = conv2_kernel_val\n",
    "sfilter = np.zeros((28,28))\n",
    "\n",
    "for i in range(13):\n",
    "    for j in range(1):\n",
    "        sfilter[i,j]=k2[i,j,0,0]\n",
    "        \n",
    "print(\"Filter in layer 2\")\n",
    "plt.imshow(sfilter, interpolation=\"nearest\", cmap=\"gray\")"
   ]
  },
  {
   "cell_type": "code",
   "execution_count": null,
   "metadata": {
    "collapsed": true
   },
   "outputs": [],
   "source": []
  }
 ],
 "metadata": {
  "kernelspec": {
   "display_name": "Python 2",
   "language": "python",
   "name": "python2"
  },
  "language_info": {
   "codemirror_mode": {
    "name": "ipython",
    "version": 2
   },
   "file_extension": ".py",
   "mimetype": "text/x-python",
   "name": "python",
   "nbconvert_exporter": "python",
   "pygments_lexer": "ipython2",
   "version": "2.7.13"
  }
 },
 "nbformat": 4,
 "nbformat_minor": 2
}
